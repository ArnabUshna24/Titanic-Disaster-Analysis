{
  "nbformat": 4,
  "nbformat_minor": 0,
  "metadata": {
    "colab": {
      "provenance": []
    },
    "kernelspec": {
      "name": "python3",
      "display_name": "Python 3"
    },
    "language_info": {
      "name": "python"
    }
  },
  "cells": [
    {
      "cell_type": "markdown",
      "source": [
        "# **Titanic Disaster Analysis**\n",
        "\n",
        "**Goal:** This project aims to analyze the scenario from Titanic disaster dataset from Kaggle.\n",
        "\n",
        "**Dataset:** https://www.kaggle.com/c/titanic/data"
      ],
      "metadata": {
        "id": "A8pYJvrib9OJ"
      }
    },
    {
      "cell_type": "markdown",
      "source": [
        "# **Importing Necessary Libraries**"
      ],
      "metadata": {
        "id": "YbKgbEUUb-_N"
      }
    },
    {
      "cell_type": "code",
      "execution_count": 1,
      "metadata": {
        "colab": {
          "base_uri": "https://localhost:8080/"
        },
        "id": "3I9RDz6OWQDL",
        "outputId": "2dbd2889-0000-4c31-9b64-736005493962"
      },
      "outputs": [
        {
          "output_type": "stream",
          "name": "stdout",
          "text": [
            "Requirement already satisfied: pandas in /usr/local/lib/python3.11/dist-packages (2.2.2)\n",
            "Requirement already satisfied: numpy>=1.23.2 in /usr/local/lib/python3.11/dist-packages (from pandas) (2.0.2)\n",
            "Requirement already satisfied: python-dateutil>=2.8.2 in /usr/local/lib/python3.11/dist-packages (from pandas) (2.9.0.post0)\n",
            "Requirement already satisfied: pytz>=2020.1 in /usr/local/lib/python3.11/dist-packages (from pandas) (2025.2)\n",
            "Requirement already satisfied: tzdata>=2022.7 in /usr/local/lib/python3.11/dist-packages (from pandas) (2025.2)\n",
            "Requirement already satisfied: six>=1.5 in /usr/local/lib/python3.11/dist-packages (from python-dateutil>=2.8.2->pandas) (1.17.0)\n"
          ]
        }
      ],
      "source": [
        "pip install pandas"
      ]
    },
    {
      "cell_type": "code",
      "source": [
        "pip install openpyxl"
      ],
      "metadata": {
        "colab": {
          "base_uri": "https://localhost:8080/"
        },
        "id": "8gXjW_ZGWYlb",
        "outputId": "21693a6c-7f82-4eb9-a957-b51553195430"
      },
      "execution_count": 2,
      "outputs": [
        {
          "output_type": "stream",
          "name": "stdout",
          "text": [
            "Requirement already satisfied: openpyxl in /usr/local/lib/python3.11/dist-packages (3.1.5)\n",
            "Requirement already satisfied: et-xmlfile in /usr/local/lib/python3.11/dist-packages (from openpyxl) (2.0.0)\n"
          ]
        }
      ]
    },
    {
      "cell_type": "code",
      "source": [
        "from google.colab import drive\n",
        "drive.mount('/content/drive')"
      ],
      "metadata": {
        "colab": {
          "base_uri": "https://localhost:8080/"
        },
        "id": "PPJMixoHWccj",
        "outputId": "7e6d5652-7966-4306-dc69-306fabf5ae69"
      },
      "execution_count": 3,
      "outputs": [
        {
          "output_type": "stream",
          "name": "stdout",
          "text": [
            "Mounted at /content/drive\n"
          ]
        }
      ]
    },
    {
      "cell_type": "markdown",
      "source": [
        "# **Retrieving Data**"
      ],
      "metadata": {
        "id": "UMNVfahBcSAT"
      }
    },
    {
      "cell_type": "code",
      "source": [
        "import pandas as pd\n",
        "\n",
        "df = pd.read_excel('/content/drive/My Drive/Train.xlsx', sheet_name = 'Train')\n",
        "print(df.head(10))"
      ],
      "metadata": {
        "colab": {
          "base_uri": "https://localhost:8080/"
        },
        "id": "TNZMbeBPWkcy",
        "outputId": "f84042df-b226-4a62-ea09-2cdf6bf8ad23"
      },
      "execution_count": 4,
      "outputs": [
        {
          "output_type": "stream",
          "name": "stdout",
          "text": [
            "   PassengerId  Survived  Pclass  \\\n",
            "0            1         0       3   \n",
            "1            2         1       1   \n",
            "2            3         1       3   \n",
            "3            4         1       1   \n",
            "4            5         0       3   \n",
            "5            6         0       3   \n",
            "6            7         0       1   \n",
            "7            8         0       3   \n",
            "8            9         1       3   \n",
            "9           10         1       2   \n",
            "\n",
            "                                                Name     Sex   Age  SibSp  \\\n",
            "0                            Braund, Mr. Owen Harris    male  22.0      1   \n",
            "1  Cumings, Mrs. John Bradley (Florence Briggs Th...  female  38.0      1   \n",
            "2                             Heikkinen, Miss. Laina  female  26.0      0   \n",
            "3       Futrelle, Mrs. Jacques Heath (Lily May Peel)  female  35.0      1   \n",
            "4                           Allen, Mr. William Henry    male  35.0      0   \n",
            "5                                   Moran, Mr. James    male   NaN      0   \n",
            "6                            McCarthy, Mr. Timothy J    male  54.0      0   \n",
            "7                     Palsson, Master. Gosta Leonard    male   2.0      3   \n",
            "8  Johnson, Mrs. Oscar W (Elisabeth Vilhelmina Berg)  female  27.0      0   \n",
            "9                Nasser, Mrs. Nicholas (Adele Achem)  female  14.0      1   \n",
            "\n",
            "   Parch            Ticket     Fare Cabin Embarked  \n",
            "0      0         A/5 21171   7.2500   NaN        S  \n",
            "1      0          PC 17599  71.2833   C85        C  \n",
            "2      0  STON/O2. 3101282   7.9250   NaN        S  \n",
            "3      0            113803  53.1000  C123        S  \n",
            "4      0            373450   8.0500   NaN        S  \n",
            "5      0            330877   8.4583   NaN        Q  \n",
            "6      0             17463  51.8625   E46        S  \n",
            "7      1            349909  21.0750   NaN        S  \n",
            "8      2            347742  11.1333   NaN        S  \n",
            "9      0            237736  30.0708   NaN        C  \n"
          ]
        }
      ]
    },
    {
      "cell_type": "markdown",
      "source": [
        "# **Data Cleaning**"
      ],
      "metadata": {
        "id": "0zFdmQwCcYyl"
      }
    },
    {
      "cell_type": "code",
      "source": [
        "# Check for missing values\n",
        "missing_values = df.isnull().sum()\n",
        "print(missing_values)"
      ],
      "metadata": {
        "colab": {
          "base_uri": "https://localhost:8080/"
        },
        "id": "kRiOK0-8WqyL",
        "outputId": "4d235c65-3a57-4d27-c74a-91c88be14ca0"
      },
      "execution_count": 5,
      "outputs": [
        {
          "output_type": "stream",
          "name": "stdout",
          "text": [
            "PassengerId      0\n",
            "Survived         0\n",
            "Pclass           0\n",
            "Name             0\n",
            "Sex              0\n",
            "Age            177\n",
            "SibSp            0\n",
            "Parch            0\n",
            "Ticket           0\n",
            "Fare             0\n",
            "Cabin          687\n",
            "Embarked         2\n",
            "dtype: int64\n"
          ]
        }
      ]
    },
    {
      "cell_type": "code",
      "source": [
        "# Handling 'Age' column\n",
        "df['Age'].fillna(df['Age'].median(), inplace = True)"
      ],
      "metadata": {
        "colab": {
          "base_uri": "https://localhost:8080/"
        },
        "id": "nXFi2bq1mWFT",
        "outputId": "f15c6bee-012f-4a17-8147-4669fed5a796"
      },
      "execution_count": 21,
      "outputs": [
        {
          "output_type": "stream",
          "name": "stderr",
          "text": [
            "<ipython-input-21-6996ea2cac3e>:2: FutureWarning: A value is trying to be set on a copy of a DataFrame or Series through chained assignment using an inplace method.\n",
            "The behavior will change in pandas 3.0. This inplace method will never work because the intermediate object on which we are setting values always behaves as a copy.\n",
            "\n",
            "For example, when doing 'df[col].method(value, inplace=True)', try using 'df.method({col: value}, inplace=True)' or df[col] = df[col].method(value) instead, to perform the operation inplace on the original object.\n",
            "\n",
            "\n",
            "  df['Age'].fillna(df['Age'].median(), inplace = True)\n"
          ]
        }
      ]
    },
    {
      "cell_type": "code",
      "source": [
        "# Handling 'Cabin' column\n",
        "df['Cabin_known'] = df['Cabin'].notnull().astype(int)\n",
        "df.drop(columns = ['Cabin'], inplace = True)"
      ],
      "metadata": {
        "id": "Tf36igQdmZi3"
      },
      "execution_count": 22,
      "outputs": []
    },
    {
      "cell_type": "code",
      "source": [
        "# Handling 'Embarked' column\n",
        "df['Embarked'].fillna(df['Embarked'].mode()[0], inplace = True)"
      ],
      "metadata": {
        "colab": {
          "base_uri": "https://localhost:8080/"
        },
        "id": "b2EdnR-LmZ_g",
        "outputId": "a2c9d9cd-931d-4984-8af0-ae36c6a0b1da"
      },
      "execution_count": 23,
      "outputs": [
        {
          "output_type": "stream",
          "name": "stderr",
          "text": [
            "<ipython-input-23-809e96cfd404>:2: FutureWarning: A value is trying to be set on a copy of a DataFrame or Series through chained assignment using an inplace method.\n",
            "The behavior will change in pandas 3.0. This inplace method will never work because the intermediate object on which we are setting values always behaves as a copy.\n",
            "\n",
            "For example, when doing 'df[col].method(value, inplace=True)', try using 'df.method({col: value}, inplace=True)' or df[col] = df[col].method(value) instead, to perform the operation inplace on the original object.\n",
            "\n",
            "\n",
            "  df['Embarked'].fillna(df['Embarked'].mode()[0], inplace = True)\n"
          ]
        }
      ]
    },
    {
      "cell_type": "code",
      "source": [
        "# Check for outliers\n",
        "import numpy as np\n",
        "\n",
        "# Select only numeric columns\n",
        "numeric_cols = df.select_dtypes(include=[np.number])\n",
        "\n",
        "# Compute Q1, Q3, and IQR\n",
        "Q1 = numeric_cols.quantile(0.25)\n",
        "Q3 = numeric_cols.quantile(0.75)\n",
        "IQR = Q3 - Q1\n",
        "\n",
        "# Define the lower and upper bounds for detecting outliers\n",
        "lower_bound = Q1 - 1.5 * IQR\n",
        "upper_bound = Q3 + 1.5 * IQR\n",
        "\n",
        "# Identify and print outliers for each numeric column\n",
        "for col in numeric_cols.columns:\n",
        "    outliers = df[(df[col] < lower_bound[col]) | (df[col] > upper_bound[col])]\n",
        "    if not outliers.empty:\n",
        "        print(f\"\\nOutliers in '{col}':\")\n",
        "        print(outliers[[col]])"
      ],
      "metadata": {
        "colab": {
          "base_uri": "https://localhost:8080/"
        },
        "id": "AUuKu4RQen8n",
        "outputId": "15fdd888-d6e0-417e-dfd0-901edb8037fb"
      },
      "execution_count": 24,
      "outputs": [
        {
          "output_type": "stream",
          "name": "stdout",
          "text": [
            "\n",
            "Outliers in 'Age':\n",
            "       Age\n",
            "7     2.00\n",
            "11   58.00\n",
            "15   55.00\n",
            "16    2.00\n",
            "33   66.00\n",
            "..     ...\n",
            "827   1.00\n",
            "829  62.00\n",
            "831   0.83\n",
            "851  74.00\n",
            "879  56.00\n",
            "\n",
            "[66 rows x 1 columns]\n",
            "\n",
            "Outliers in 'SibSp':\n",
            "     SibSp\n",
            "7        3\n",
            "16       4\n",
            "24       3\n",
            "27       3\n",
            "50       4\n",
            "59       5\n",
            "63       3\n",
            "68       4\n",
            "71       5\n",
            "85       3\n",
            "88       3\n",
            "119      4\n",
            "159      8\n",
            "164      4\n",
            "171      4\n",
            "176      3\n",
            "180      8\n",
            "182      4\n",
            "201      8\n",
            "229      3\n",
            "233      4\n",
            "261      4\n",
            "266      4\n",
            "278      4\n",
            "324      8\n",
            "341      3\n",
            "374      3\n",
            "386      5\n",
            "409      3\n",
            "480      5\n",
            "485      3\n",
            "541      4\n",
            "542      4\n",
            "634      3\n",
            "642      3\n",
            "683      5\n",
            "686      4\n",
            "726      3\n",
            "787      4\n",
            "792      8\n",
            "813      4\n",
            "819      3\n",
            "824      4\n",
            "846      8\n",
            "850      4\n",
            "863      8\n",
            "\n",
            "Outliers in 'Parch':\n",
            "     Parch\n",
            "7        1\n",
            "8        2\n",
            "10       1\n",
            "13       5\n",
            "16       1\n",
            "..     ...\n",
            "871      1\n",
            "879      1\n",
            "880      1\n",
            "885      5\n",
            "888      2\n",
            "\n",
            "[213 rows x 1 columns]\n",
            "\n",
            "Outliers in 'Fare':\n",
            "         Fare\n",
            "1     71.2833\n",
            "27   263.0000\n",
            "31   146.5208\n",
            "34    82.1708\n",
            "52    76.7292\n",
            "..        ...\n",
            "846   69.5500\n",
            "849   89.1042\n",
            "856  164.8667\n",
            "863   69.5500\n",
            "879   83.1583\n",
            "\n",
            "[116 rows x 1 columns]\n",
            "\n",
            "Outliers in 'Cabin_known':\n",
            "     Cabin_known\n",
            "1              1\n",
            "3              1\n",
            "6              1\n",
            "10             1\n",
            "11             1\n",
            "..           ...\n",
            "871            1\n",
            "872            1\n",
            "879            1\n",
            "887            1\n",
            "889            1\n",
            "\n",
            "[204 rows x 1 columns]\n"
          ]
        }
      ]
    },
    {
      "cell_type": "code",
      "source": [
        "# Cap the outliers\n",
        "df_capped = df.copy()\n",
        "for col in numeric_cols.columns:\n",
        "    df_capped[col] = np.where(df_capped[col] < lower_bound[col], lower_bound[col], df_capped[col])\n",
        "    df_capped[col] = np.where(df_capped[col] > upper_bound[col], upper_bound[col], df_capped[col])\n",
        "\n",
        "# Display the descriptive statistics and data types of the capped dataframe\n",
        "print(df_capped.describe())\n",
        "print(df_capped.dtypes)"
      ],
      "metadata": {
        "colab": {
          "base_uri": "https://localhost:8080/"
        },
        "id": "xKwC35tDfo5_",
        "outputId": "2d541d03-df77-4409-aa35-20bf0721af23"
      },
      "execution_count": 25,
      "outputs": [
        {
          "output_type": "stream",
          "name": "stdout",
          "text": [
            "       PassengerId    Survived      Pclass         Age       SibSp  Parch  \\\n",
            "count   891.000000  891.000000  891.000000  891.000000  891.000000  891.0   \n",
            "mean    446.000000    0.383838    2.308642   29.039282    0.426487    0.0   \n",
            "std     257.353842    0.486592    0.836071   12.072074    0.708246    0.0   \n",
            "min       1.000000    0.000000    1.000000    2.500000    0.000000    0.0   \n",
            "25%     223.500000    0.000000    2.000000   22.000000    0.000000    0.0   \n",
            "50%     446.000000    0.000000    3.000000   28.000000    0.000000    0.0   \n",
            "75%     668.500000    1.000000    3.000000   35.000000    1.000000    0.0   \n",
            "max     891.000000    1.000000    3.000000   54.500000    2.500000    0.0   \n",
            "\n",
            "             Fare  Cabin_known  \n",
            "count  891.000000        891.0  \n",
            "mean    24.046813          0.0  \n",
            "std     20.481625          0.0  \n",
            "min      0.000000          0.0  \n",
            "25%      7.910400          0.0  \n",
            "50%     14.454200          0.0  \n",
            "75%     31.000000          0.0  \n",
            "max     65.634400          0.0  \n",
            "PassengerId    float64\n",
            "Survived       float64\n",
            "Pclass         float64\n",
            "Name            object\n",
            "Sex             object\n",
            "Age            float64\n",
            "SibSp          float64\n",
            "Parch          float64\n",
            "Ticket          object\n",
            "Fare           float64\n",
            "Embarked        object\n",
            "Age_Group       object\n",
            "Cabin_known    float64\n",
            "dtype: object\n"
          ]
        }
      ]
    },
    {
      "cell_type": "code",
      "source": [
        "# Identify duplicate rows\n",
        "duplicates = df[df.duplicated()]\n",
        "print(\"Duplicate Rows:\\n\", duplicates)\n",
        "\n",
        "duplicate_rows = df[df.duplicated()]\n",
        "print(\"Duplicate Rows:\", len(duplicate_rows))"
      ],
      "metadata": {
        "colab": {
          "base_uri": "https://localhost:8080/"
        },
        "id": "5p6cOweOW5Uc",
        "outputId": "0f90d6a1-c13b-49f2-e395-62264798790a"
      },
      "execution_count": 26,
      "outputs": [
        {
          "output_type": "stream",
          "name": "stdout",
          "text": [
            "Duplicate Rows:\n",
            " Empty DataFrame\n",
            "Columns: [PassengerId, Survived, Pclass, Name, Sex, Age, SibSp, Parch, Ticket, Fare, Embarked, Age_Group, Cabin_known]\n",
            "Index: []\n",
            "Duplicate Rows: 0\n"
          ]
        }
      ]
    },
    {
      "cell_type": "code",
      "source": [
        "# Identify duplicate columns\n",
        "def duplicate_columns(data):\n",
        "    duplicate_cols = []\n",
        "    cols_seen = {}\n",
        "\n",
        "    # Loop through all columns and compare their data\n",
        "    for col in data.columns:\n",
        "        col_data = tuple(data[col])\n",
        "        if col_data in cols_seen:\n",
        "            duplicate_cols.append(col)\n",
        "        else:\n",
        "            cols_seen[col_data] = col\n",
        "\n",
        "    return duplicate_cols\n",
        "\n",
        "# Identify duplicate columns\n",
        "duplicates = duplicate_columns(df)\n",
        "print(\"Duplicate Columns:\", duplicates)"
      ],
      "metadata": {
        "colab": {
          "base_uri": "https://localhost:8080/"
        },
        "id": "NDw5yeYlXBLz",
        "outputId": "fe954ea9-f9a4-4234-9f8c-75cb9d6a3f04"
      },
      "execution_count": 38,
      "outputs": [
        {
          "output_type": "stream",
          "name": "stdout",
          "text": [
            "Duplicate Columns: []\n"
          ]
        }
      ]
    },
    {
      "cell_type": "code",
      "source": [
        "# Define a function to categorize age\n",
        "# Child: Age < 18 years\n",
        "# Adult: Age < 65 years\n",
        "# Senior: Age >= 65 years\n",
        "\n",
        "def categorize_age(age):\n",
        "    if age < 18:\n",
        "        return 'Child'\n",
        "    elif age < 65:\n",
        "        return 'Adult'\n",
        "    else:\n",
        "        return 'Senior'\n",
        "\n",
        "# Apply the function to create a new column\n",
        "df['Age_Group'] = df['Age'].apply(categorize_age)\n",
        "\n",
        "print(df)"
      ],
      "metadata": {
        "colab": {
          "base_uri": "https://localhost:8080/"
        },
        "id": "WcqXsiRfXE5b",
        "outputId": "a39f33c5-1def-4a54-8dea-100002a01031"
      },
      "execution_count": 28,
      "outputs": [
        {
          "output_type": "stream",
          "name": "stdout",
          "text": [
            "     PassengerId  Survived  Pclass  \\\n",
            "0              1         0       3   \n",
            "1              2         1       1   \n",
            "2              3         1       3   \n",
            "3              4         1       1   \n",
            "4              5         0       3   \n",
            "..           ...       ...     ...   \n",
            "886          887         0       2   \n",
            "887          888         1       1   \n",
            "888          889         0       3   \n",
            "889          890         1       1   \n",
            "890          891         0       3   \n",
            "\n",
            "                                                  Name     Sex   Age  SibSp  \\\n",
            "0                              Braund, Mr. Owen Harris    male  22.0      1   \n",
            "1    Cumings, Mrs. John Bradley (Florence Briggs Th...  female  38.0      1   \n",
            "2                               Heikkinen, Miss. Laina  female  26.0      0   \n",
            "3         Futrelle, Mrs. Jacques Heath (Lily May Peel)  female  35.0      1   \n",
            "4                             Allen, Mr. William Henry    male  35.0      0   \n",
            "..                                                 ...     ...   ...    ...   \n",
            "886                              Montvila, Rev. Juozas    male  27.0      0   \n",
            "887                       Graham, Miss. Margaret Edith  female  19.0      0   \n",
            "888           Johnston, Miss. Catherine Helen \"Carrie\"  female  28.0      1   \n",
            "889                              Behr, Mr. Karl Howell    male  26.0      0   \n",
            "890                                Dooley, Mr. Patrick    male  32.0      0   \n",
            "\n",
            "     Parch            Ticket     Fare Embarked Age_Group  Cabin_known  \n",
            "0        0         A/5 21171   7.2500        S     Adult            0  \n",
            "1        0          PC 17599  71.2833        C     Adult            1  \n",
            "2        0  STON/O2. 3101282   7.9250        S     Adult            0  \n",
            "3        0            113803  53.1000        S     Adult            1  \n",
            "4        0            373450   8.0500        S     Adult            0  \n",
            "..     ...               ...      ...      ...       ...          ...  \n",
            "886      0            211536  13.0000        S     Adult            0  \n",
            "887      0            112053  30.0000        S     Adult            1  \n",
            "888      2        W./C. 6607  23.4500        S     Adult            0  \n",
            "889      0            111369  30.0000        C     Adult            1  \n",
            "890      0            370376   7.7500        Q     Adult            0  \n",
            "\n",
            "[891 rows x 13 columns]\n"
          ]
        }
      ]
    },
    {
      "cell_type": "code",
      "source": [
        "summary = df.describe()\n",
        "print(summary)"
      ],
      "metadata": {
        "colab": {
          "base_uri": "https://localhost:8080/"
        },
        "id": "2E-EEmZpXJJU",
        "outputId": "ce5257a3-219f-4ddf-afbe-54dfab75c4dc"
      },
      "execution_count": 29,
      "outputs": [
        {
          "output_type": "stream",
          "name": "stdout",
          "text": [
            "       PassengerId    Survived      Pclass         Age       SibSp  \\\n",
            "count   891.000000  891.000000  891.000000  891.000000  891.000000   \n",
            "mean    446.000000    0.383838    2.308642   29.361582    0.523008   \n",
            "std     257.353842    0.486592    0.836071   13.019697    1.102743   \n",
            "min       1.000000    0.000000    1.000000    0.420000    0.000000   \n",
            "25%     223.500000    0.000000    2.000000   22.000000    0.000000   \n",
            "50%     446.000000    0.000000    3.000000   28.000000    0.000000   \n",
            "75%     668.500000    1.000000    3.000000   35.000000    1.000000   \n",
            "max     891.000000    1.000000    3.000000   80.000000    8.000000   \n",
            "\n",
            "            Parch        Fare  Cabin_known  \n",
            "count  891.000000  891.000000   891.000000  \n",
            "mean     0.381594   32.204208     0.228956  \n",
            "std      0.806057   49.693429     0.420397  \n",
            "min      0.000000    0.000000     0.000000  \n",
            "25%      0.000000    7.910400     0.000000  \n",
            "50%      0.000000   14.454200     0.000000  \n",
            "75%      0.000000   31.000000     0.000000  \n",
            "max      6.000000  512.329200     1.000000  \n"
          ]
        }
      ]
    },
    {
      "cell_type": "code",
      "source": [
        "data_types = df.dtypes\n",
        "print(data_types)"
      ],
      "metadata": {
        "colab": {
          "base_uri": "https://localhost:8080/"
        },
        "id": "q3kzQHU_XNXE",
        "outputId": "ab73b7ff-315d-45fa-f1a8-aced9ac33dbd"
      },
      "execution_count": 30,
      "outputs": [
        {
          "output_type": "stream",
          "name": "stdout",
          "text": [
            "PassengerId      int64\n",
            "Survived         int64\n",
            "Pclass           int64\n",
            "Name            object\n",
            "Sex             object\n",
            "Age            float64\n",
            "SibSp            int64\n",
            "Parch            int64\n",
            "Ticket          object\n",
            "Fare           float64\n",
            "Embarked        object\n",
            "Age_Group       object\n",
            "Cabin_known      int64\n",
            "dtype: object\n"
          ]
        }
      ]
    },
    {
      "cell_type": "markdown",
      "source": [
        "# **Exploratory Data Analysis (EDA)**"
      ],
      "metadata": {
        "id": "rLOajIKtc9Nn"
      }
    },
    {
      "cell_type": "code",
      "source": [
        "import seaborn as sns\n",
        "import matplotlib.pyplot as plt\n",
        "\n",
        "# Bar plot\n",
        "plt.figure(figsize = (8, 6))\n",
        "sns.countplot(x = 'Sex', data = df_capped)\n",
        "plt.title('Distribution of Passengers by Gender')\n",
        "plt.xlabel('Gender')\n",
        "plt.ylabel('Frequency')\n",
        "plt.show()"
      ],
      "metadata": {
        "colab": {
          "base_uri": "https://localhost:8080/",
          "height": 564
        },
        "id": "DfrrNmHtXQiU",
        "outputId": "b3e8494e-e628-438f-e9b9-87a5d0337f4c"
      },
      "execution_count": 31,
      "outputs": [
        {
          "output_type": "display_data",
          "data": {
            "text/plain": [
              "<Figure size 800x600 with 1 Axes>"
            ],
            "image/png": "[encoded data removed]"
          },
          "metadata": {}
        }
      ]
    },
    {
      "cell_type": "code",
      "source": [
        "# Histogram for age distribution\n",
        "\n",
        "plt.figure(figsize = (12, 6))\n",
        "plt.hist(df_capped['Age'], bins = 20, color = 'skyblue', edgecolor = 'black')\n",
        "plt.xlabel('Age')\n",
        "plt.ylabel('Frequency')\n",
        "plt.title('Age Distribution Histogram')"
      ],
      "metadata": {
        "colab": {
          "base_uri": "https://localhost:8080/",
          "height": 581
        },
        "id": "wzxrh-6CXYQL",
        "outputId": "8d5fe079-6add-4689-ac33-c9d648d2713a"
      },
      "execution_count": 32,
      "outputs": [
        {
          "output_type": "execute_result",
          "data": {
            "text/plain": [
              "Text(0.5, 1.0, 'Age Distribution Histogram')"
            ]
          },
          "metadata": {},
          "execution_count": 32
        },
        {
          "output_type": "display_data",
          "data": {
            "text/plain": [
              "<Figure size 1200x600 with 1 Axes>"
            ],
            "image/png": "[encoded data removed]"
          },
          "metadata": {}
        }
      ]
    },
    {
      "cell_type": "code",
      "source": [
        "# Calculate survival percentages by gender\n",
        "gender_survival = df_capped.groupby(['Sex', 'Survived']).size().reset_index(name = 'Count')\n",
        "gender_survival['Percentage'] = gender_survival['Count'] / gender_survival.groupby('Sex')['Count'].transform('sum') * 100\n",
        "\n",
        "# Plot percentage of survival by gender\n",
        "plt.figure(figsize = (12, 6))\n",
        "sns.barplot(x = 'Sex', y = 'Percentage', hue = 'Survived', data = gender_survival)\n",
        "plt.title('Survival Rate by Gender')\n",
        "plt.xlabel('Gender')\n",
        "plt.ylabel('Percentage')\n",
        "plt.ylim(0, 100)\n",
        "\n",
        "# Create custom legend\n",
        "import matplotlib.patches as mpatches\n",
        "handles = [mpatches.Patch(color = sns.color_palette()[0], label = 'Not Survived'),mpatches.Patch(color = sns.color_palette()[1], label = 'Survived')]\n",
        "plt.legend(handles = handles, title = 'Survival Status', loc = 'upper right')\n",
        "\n",
        "plt.show()"
      ],
      "metadata": {
        "colab": {
          "base_uri": "https://localhost:8080/",
          "height": 564
        },
        "id": "S4eT9UN-XgeM",
        "outputId": "a04c6810-0cbf-4508-aa2f-1103afb7da65"
      },
      "execution_count": 33,
      "outputs": [
        {
          "output_type": "display_data",
          "data": {
            "text/plain": [
              "<Figure size 1200x600 with 1 Axes>"
            ],
            "image/png": "[encoded data removed]"
          },
          "metadata": {}
        }
      ]
    },
    {
      "cell_type": "code",
      "source": [
        "# Calculate survival percentages by class\n",
        "class_survival = df_capped.groupby(['Pclass', 'Survived']).size().reset_index(name = 'Count')\n",
        "class_survival['Percentage'] = class_survival['Count'] / class_survival.groupby('Pclass')['Count'].transform('sum') * 100\n",
        "\n",
        "# Plot percentage of survival by class\n",
        "plt.figure(figsize = (12, 6))\n",
        "sns.barplot(x = 'Pclass', y = 'Percentage', hue = 'Survived', data = class_survival)\n",
        "plt.title('Survival Rate by Class')\n",
        "plt.xlabel('Class')\n",
        "plt.ylabel('Percentage')\n",
        "plt.ylim(0, 100)\n",
        "\n",
        "# Create custom legend\n",
        "import matplotlib.patches as mpatches\n",
        "handles = [mpatches.Patch(color = sns.color_palette()[0], label = 'Not Survived'),mpatches.Patch(color = sns.color_palette()[1], label = 'Survived')]\n",
        "plt.legend(handles = handles, title = 'Survival Status', loc = 'upper right')\n",
        "\n",
        "plt.show()"
      ],
      "metadata": {
        "colab": {
          "base_uri": "https://localhost:8080/",
          "height": 564
        },
        "id": "VBoTxfVUZAy8",
        "outputId": "85d79b3d-e416-492b-e8de-0e24f30e2941"
      },
      "execution_count": 34,
      "outputs": [
        {
          "output_type": "display_data",
          "data": {
            "text/plain": [
              "<Figure size 1200x600 with 1 Axes>"
            ],
            "image/png": "[encoded data removed]"
          },
          "metadata": {}
        }
      ]
    },
    {
      "cell_type": "markdown",
      "source": [
        "# **Statistical Analysis**"
      ],
      "metadata": {
        "id": "h03KCt3ndIIW"
      }
    },
    {
      "cell_type": "code",
      "source": [
        "# Calculate the mean, median, and mode for the 'Fare' column\n",
        "\n",
        "mean_value = df['Fare'].mean()\n",
        "median_value = df['Fare'].median()\n",
        "mode_value = df['Fare'].mode()\n",
        "\n",
        "print(f\"Mean: {mean_value}\")\n",
        "print(f\"Median: {median_value}\")\n",
        "print(f\"Mode: {mode_value.tolist()}\")"
      ],
      "metadata": {
        "colab": {
          "base_uri": "https://localhost:8080/"
        },
        "id": "IH1BTzD8Zinl",
        "outputId": "21740a35-dafb-4457-b657-434c0a14dd21"
      },
      "execution_count": 35,
      "outputs": [
        {
          "output_type": "stream",
          "name": "stdout",
          "text": [
            "Mean: 32.204207968574636\n",
            "Median: 14.4542\n",
            "Mode: [8.05]\n"
          ]
        }
      ]
    },
    {
      "cell_type": "code",
      "source": [
        "# Calculate the mean, median, and mode for the 'Age' column\n",
        "\n",
        "mean_value = df['Age'].mean()\n",
        "median_value = df['Age'].median()\n",
        "mode_value = df['Age'].mode()\n",
        "\n",
        "print(f\"Mean: {mean_value}\")\n",
        "print(f\"Median: {median_value}\")\n",
        "print(f\"Mode: {mode_value.tolist()}\")"
      ],
      "metadata": {
        "colab": {
          "base_uri": "https://localhost:8080/"
        },
        "id": "O93OzFscZpgM",
        "outputId": "e18dec20-07af-45f5-f29b-3d41af2d917f"
      },
      "execution_count": 36,
      "outputs": [
        {
          "output_type": "stream",
          "name": "stdout",
          "text": [
            "Mean: 29.36158249158249\n",
            "Median: 28.0\n",
            "Mode: [28.0]\n"
          ]
        }
      ]
    },
    {
      "cell_type": "code",
      "source": [
        "# Perform a t-test to determine if there's a significant difference in survival rate based on gender\n",
        "\n",
        "from scipy import stats\n",
        "\n",
        "# Separate the groups\n",
        "male_survival = df[df['Sex'] == 'male']['Survived']\n",
        "female_survival = df[df['Sex'] == 'female']['Survived']\n",
        "\n",
        "# Perform the t-test\n",
        "t_stat, p_value = stats.ttest_ind(male_survival, female_survival, equal_var = False)\n",
        "\n",
        "print(f\"T-statistic: {t_stat}, P-value: {p_value}\")\n",
        "\n",
        "# Interpret the results\n",
        "alpha = 0.05  # Significance level\n",
        "if p_value < alpha:\n",
        "    print(\"Reject the null hypothesis: Significant difference in survival rates.\")\n",
        "else:\n",
        "    print(\"Fail to reject the null hypothesis: No significant difference in survival rates.\")"
      ],
      "metadata": {
        "colab": {
          "base_uri": "https://localhost:8080/"
        },
        "id": "8xxyOx6QZsQ7",
        "outputId": "6e3af19a-b642-49c1-a2f8-d95228ae1565"
      },
      "execution_count": 37,
      "outputs": [
        {
          "output_type": "stream",
          "name": "stdout",
          "text": [
            "T-statistic: -18.67183317725917, P-value: 2.2836009226010533e-61\n",
            "Reject the null hypothesis: Significant difference in survival rates.\n"
          ]
        }
      ]
    }
  ]
}